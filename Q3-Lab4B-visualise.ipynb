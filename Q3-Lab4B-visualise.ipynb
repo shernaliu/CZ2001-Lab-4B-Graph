{
 "cells": [
  {
   "cell_type": "markdown",
   "metadata": {},
   "source": [
    "# Easy visualisation of City and Flights"
   ]
  },
  {
   "cell_type": "markdown",
   "metadata": {},
   "source": [
    "Visualise graph with pyvis: https://pyvis.readthedocs.io/en/latest/tutorial.html\n",
    "\n",
    "Installation: `pip install pyvis`\n",
    "\n",
    "Documentation: https://pyvis.readthedocs.io/en/latest/documentation.html"
   ]
  },
  {
   "cell_type": "code",
   "execution_count": 3,
   "metadata": {},
   "outputs": [],
   "source": [
    "# import libraries\n",
    "import pandas as pd\n",
    "# visualise graph\n",
    "from pyvis import network as net\n",
    "import networkx as nx"
   ]
  },
  {
   "cell_type": "markdown",
   "metadata": {},
   "source": [
    "### Visualize a graph"
   ]
  },
  {
   "cell_type": "code",
   "execution_count": 4,
   "metadata": {
    "scrolled": true
   },
   "outputs": [
    {
     "name": "stdout",
     "output_type": "stream",
     "text": [
      "Num of nodes: 10\n",
      "Num of edges: 11\n"
     ]
    },
    {
     "data": {
      "text/html": [
       "\n",
       "        <iframe\n",
       "            width=\"500px\"\n",
       "            height=\"500px\"\n",
       "            src=\"graph-sherna.html\"\n",
       "            frameborder=\"0\"\n",
       "            allowfullscreen\n",
       "        ></iframe>\n",
       "        "
      ],
      "text/plain": [
       "<IPython.lib.display.IFrame at 0x21dc519d208>"
      ]
     },
     "execution_count": 4,
     "metadata": {},
     "output_type": "execute_result"
    }
   ],
   "source": [
    "# graph\n",
    "df_cities = pd.read_csv('data/cities-sherna.csv')\n",
    "df_flights = pd.read_csv('data/flights-sherna.csv')\n",
    "\n",
    "print(\"Num of nodes:\", len(df_cities))\n",
    "print(\"Num of edges:\", len(df_flights))\n",
    "\n",
    "vis_graph = net.Network(notebook=True)\n",
    "# add nodes\n",
    "for city in df_cities['City']:\n",
    "    vis_graph.add_node(city, color = \"orange\")\n",
    "    \n",
    "# add edges\n",
    "for i, flight in df_flights.iterrows():\n",
    "    vis_graph.add_edge(flight['SrcCity'],flight['DestCity'])\n",
    "    \n",
    "# show graph\n",
    "vis_graph.toggle_physics(False) # set to True for some jiggling fun :D\n",
    "vis_graph.show(\"graph-sherna.html\")\n",
    "#vis_graph.save_graph(\"graph-sherna.html\")"
   ]
  },
  {
   "cell_type": "code",
   "execution_count": null,
   "metadata": {},
   "outputs": [],
   "source": []
  }
 ],
 "metadata": {
  "kernelspec": {
   "display_name": "Python 3",
   "language": "python",
   "name": "python3"
  },
  "language_info": {
   "codemirror_mode": {
    "name": "ipython",
    "version": 3
   },
   "file_extension": ".py",
   "mimetype": "text/x-python",
   "name": "python",
   "nbconvert_exporter": "python",
   "pygments_lexer": "ipython3",
   "version": "3.7.6"
  }
 },
 "nbformat": 4,
 "nbformat_minor": 2
}
